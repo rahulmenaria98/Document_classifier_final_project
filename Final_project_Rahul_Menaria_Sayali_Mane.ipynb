{
 "cells": [
  {
   "cell_type": "markdown",
   "metadata": {},
   "source": [
    "# Title: Document Classification using NLP, Machine Learning\n",
    "\n",
    "#### Group Member Names : Rahul Menaria (200555789) and Sayali Mane (200560393)\n",
    "\n"
   ]
  },
  {
   "cell_type": "markdown",
   "metadata": {},
   "source": [
    "# Introduction:"
   ]
  },
  {
   "cell_type": "markdown",
   "metadata": {
    "pycharm": {
     "name": "#%% md\n"
    }
   },
   "source": [
    "\n",
    "### AIM\n",
    "Perform document classification into four defined categories (World, Sports, Business, Sci/Tech). Compare the classifier accuracy with different models ranging from Naïve Bayes to Convolutional Neural Network (CNN). By making use of different feature engineering techniques and extra Natural Language Processing (NLP) features create an accurate text classifier.\n",
    "\n",
    "### Document/Text Classification\n",
    "Document/Text classification is an important task that has use cases in many real-world problems. Assigning topics to documents like news article, books, webpages, social media post has many applications like spam filtering, sentiment analysis, tagging customer queries, fake news detection etc. Natural language's vastly large size, unrestrictive nature, and ambiguity led to two problems when using standard parsing approaches that relied purely on symbolic, hand-crafted rules: unmanageable numerous rules and inability to understand ungrammatical text something which is human comprehensible easily. A problem statement apt for machine learning. NLP is a branch of data science that consists of systematic processes for analyzing, understanding, and deriving information from the text data in a smart and efficient manner. By utilizing NLP and its components, one can organize the massive chunks of text data, perform numerous automated tasks and solve a wide range of problems such as – automatic summarization, machine translation, named entity recognition, relationship extraction, sentiment analysis, speech recognition, and topic segmentation etc.\n",
    "\n",
    "### Previous Research in this area\n",
    "In the last few years, neural networks based on dense vector representations have been producing superior results on various NLP tasks. This trend is sparked by the success of word embeddings and deep learning methods. The traditional NLP systems which were formed upon machine learning rules have always relied majorly on hand-crafted features whereas deep learning has provided substantial difference with multi-level automatic feature representation learning. With time as the success of a simple deep learning framework was established over conventional machine learning methodologies, several NLP tasks have changed their focus on this new area. Not only complex deep learning based algorithm been proposed but applications such as semantic role labeling and named entity recognition have been improved greatly.  \n"
   ]
  },
  {
   "cell_type": "markdown",
   "metadata": {},
   "source": [
    "*********************************************************************************************************************\n",
    "#### Github Repo: \n",
    "https://github.com/saurabh1907/document-classification-ml-nlp\n",
    "*********************************************************************************************************************\n",
    "#### DESCRIPTION OF PAPER:\n",
    "The paper \"Deep Learning for Technical Document Classification\" introduces a novel multimodal deep learning architecture, for accurately classifying technical documents. Unlike previous studies, this approach considers both text and image information within documents, as well as the relationships among documents. By combining convolutional, recurrent, and graph neural networks, the architecture achieves better classification accuracy, especially in hierarchical systems like the International Patent Classification. The method's potential to handle large volumes of multimodal documents offers significant benefits for knowledge management in technology companies.\n",
    "\n",
    "*********************************************************************************************************************\n",
    "#### SOLUTION:\n",
    "* The method discussed in this study tackles the limitations of previous approaches by incorporating a broader range of machine learning models, including DNN, Naive Bayes, Decision Tree,XGBoost,MLP. These additional models bring diverse learning mechanisms and predictive capabilities, potentially capturing complex patterns and relationships in the data more effectively. Moreover, the inclusion of ensemble methods like MLP ,XGBoost leverages the power of multiple models to achieve higher accuracy and robustness. The use of deep learning techniques, such as DNN, enables better representation of data through multiple layers of abstraction, potentially leading to improved predictions. *"
   ]
  },
  {
   "cell_type": "markdown",
   "metadata": {},
   "source": [
    "# Background\n",
    "\n",
    "\n",
    "\n",
    "| Reference |Explanation |  Dataset/Input |Weakness\n",
    "| --- | --- | --- | --- |\n",
    "| S. Selvi and S. Indra Gandhi, \"Text Classification Algorithms: A Survey,\" International Journal of Computer Science and Information Security, Vol. 9, No. 5, 2011. [1] | This survey provides an overview of various text classification algorithms, including traditional machine learning techniques and deep learning models.|  For this project, we utilize a dataset containing news articles labeled into categories such as politics, sports, technology, and entertainment |Further studies need to be performed in other locations to confirm the results and the data which was analyzed was reltively small. \n",
    "| Yoon Kim, \"A Convolutional Neural Network for Modelling Sentences,\" arXiv preprint arXiv:1408.5882, 2014. [2] | This paper introduces the use of convolutional neural networks (CNNs) for text classification tasks, showcasing the effectiveness of CNNs in capturing local patterns in sentences.| A dataset of medical records categorized into different medical conditions. This dataset can be used for medical text classification tasks such as disease diagnosis.| Document classifiers trained on one domain may not perform well on documents from a different domain. Models may struggle with domain-specific jargon and terminology.\n"
   ]
  },
  {
   "cell_type": "markdown",
   "metadata": {},
   "source": [
    "# Methodology\n",
    "*********************************************************************************************************************\n",
    "\n",
    "####\n",
    "##### 1. Data Preparation and Preprocessing:\n",
    "Curated diverse dataset of technical documents.\n",
    "Cleaned text data by removing symbols and punctuation.\n",
    "Applied tokenization to split text into words or n-grams.\n",
    "##### 2. Feature Representation:\n",
    "Explored different representations:\n",
    "Count Vectors: Word frequency vectors.\n",
    "WordLevel TF-IDF: Captured word importance.\n",
    "N-Gram Vectors: Sequences of words for context.\n",
    "CharLevel Vectors: Encoded characters for patterns.\n",
    "##### 3. Model Selection and Evaluation:\n",
    "Chose models: NB, LR, RF, XGB, MLP, CNN.\n",
    "Utilized cross-validation for robustness.\n",
    "Split data into training and testing subsets.\n",
    "##### 4. Word Embedding:\n",
    "Introduced word embeddings for semantic understanding.\n",
    "Enhanced accuracy and reduced training time.\n",
    "##### 5. Evaluation Metrics:\n",
    "Primarily used accuracy."
   ]
  },
  {
   "cell_type": "code",
   "execution_count": 1,
   "metadata": {
    "pycharm": {
     "is_executing": false
    },
    "scrolled": true
   },
   "outputs": [
    {
     "name": "stderr",
     "output_type": "stream",
     "text": [
      "2023-08-17 17:56:07.939598: I tensorflow/core/platform/cpu_feature_guard.cc:182] This TensorFlow binary is optimized to use available CPU instructions in performance-critical operations.\n",
      "To enable the following instructions: AVX2 FMA, in other operations, rebuild TensorFlow with the appropriate compiler flags.\n"
     ]
    }
   ],
   "source": [
    "import pandas, numpy, string, textblob\n",
    "import pickle\n",
    "from sklearn import model_selection, preprocessing, linear_model, naive_bayes, metrics, svm, decomposition, ensemble\n",
    "from sklearn.feature_extraction.text import TfidfVectorizer, CountVectorizer\n",
    "import xgboost\n",
    "from keras import layers, models, optimizers\n",
    "from keras.preprocessing import text, sequence\n",
    "import matplotlib.pyplot as plt"
   ]
  },
  {
   "cell_type": "markdown",
   "metadata": {},
   "source": [
    "### Dataset\n",
    "The chosen dataset is the ‘AG News’ dataset consisting of 1,20,000 news articles for training categorized in four categories- World, Sports, Business, Sci/Tech. It also includes 7600 testing samples in csv format. I have used pandas library to load the dataset."
   ]
  },
  {
   "cell_type": "code",
   "execution_count": 2,
   "metadata": {
    "pycharm": {
     "is_executing": false,
     "name": "#%%\n"
    }
   },
   "outputs": [],
   "source": [
    "#Load training data\n",
    "df_train = pandas.read_csv(r'/Users/rahul/Desktop/rm/project data/github_file/train.csv')\n",
    "# df_train = df_train.truncate(after=10000)\n",
    "#Load testing data\n",
    "df_test = pandas.read_csv(r'/Users/rahul/Desktop/rm/project data/github_file/test.csv')"
   ]
  },
  {
   "cell_type": "code",
   "execution_count": 3,
   "metadata": {
    "pycharm": {
     "is_executing": false,
     "name": "#%%\n"
    }
   },
   "outputs": [
    {
     "name": "stdout",
     "output_type": "stream",
     "text": [
      "<class 'pandas.core.frame.DataFrame'>\n",
      "RangeIndex: 120000 entries, 0 to 119999\n",
      "Data columns (total 3 columns):\n",
      " #   Column       Non-Null Count   Dtype \n",
      "---  ------       --------------   ----- \n",
      " 0   Class Index  120000 non-null  int64 \n",
      " 1   Title        120000 non-null  object\n",
      " 2   Description  120000 non-null  object\n",
      "dtypes: int64(1), object(2)\n",
      "memory usage: 2.7+ MB\n"
     ]
    },
    {
     "data": {
      "text/html": [
       "<div>\n",
       "<style scoped>\n",
       "    .dataframe tbody tr th:only-of-type {\n",
       "        vertical-align: middle;\n",
       "    }\n",
       "\n",
       "    .dataframe tbody tr th {\n",
       "        vertical-align: top;\n",
       "    }\n",
       "\n",
       "    .dataframe thead th {\n",
       "        text-align: right;\n",
       "    }\n",
       "</style>\n",
       "<table border=\"1\" class=\"dataframe\">\n",
       "  <thead>\n",
       "    <tr style=\"text-align: right;\">\n",
       "      <th></th>\n",
       "      <th>Class Index</th>\n",
       "      <th>Title</th>\n",
       "      <th>Description</th>\n",
       "    </tr>\n",
       "  </thead>\n",
       "  <tbody>\n",
       "    <tr>\n",
       "      <th>0</th>\n",
       "      <td>1</td>\n",
       "      <td>30000</td>\n",
       "      <td>30000</td>\n",
       "    </tr>\n",
       "    <tr>\n",
       "      <th>1</th>\n",
       "      <td>2</td>\n",
       "      <td>30000</td>\n",
       "      <td>30000</td>\n",
       "    </tr>\n",
       "    <tr>\n",
       "      <th>2</th>\n",
       "      <td>3</td>\n",
       "      <td>30000</td>\n",
       "      <td>30000</td>\n",
       "    </tr>\n",
       "    <tr>\n",
       "      <th>3</th>\n",
       "      <td>4</td>\n",
       "      <td>30000</td>\n",
       "      <td>30000</td>\n",
       "    </tr>\n",
       "  </tbody>\n",
       "</table>\n",
       "</div>"
      ],
      "text/plain": [
       "   Class Index  Title  Description\n",
       "0            1  30000        30000\n",
       "1            2  30000        30000\n",
       "2            3  30000        30000\n",
       "3            4  30000        30000"
      ]
     },
     "execution_count": 3,
     "metadata": {},
     "output_type": "execute_result"
    }
   ],
   "source": [
    "df_train.head()\n",
    "df_train.info()\n",
    "df_count = df_train.groupby(['Class Index'], as_index = False).agg({'Title': 'count', 'Description': 'count'})\n",
    "df_count.head()"
   ]
  },
  {
   "cell_type": "markdown",
   "metadata": {},
   "source": [
    "### Text Pre-processing\n",
    "It is predominantly comprised of three steps:\n",
    "1. Tokenization – It is about splitting strings of text into smaller pieces, or “tokens”. Paragraphs can be tokenized into sentences and sentences can be tokenized into words. \n",
    "2. Noise Removal – I have further cleaned up the text in this step. I have achieved so by removing punctuations, stop words, extra whitespaces and many other data points which was irrelevant to the NLP tasks. The NLTK library has inbuild functionalities for many such operations. A brief description of few of the steps taken is as:\n",
    "    - Removed HTML tags: Since articles scrapped from web are likely to contain HTML tags, therefore have used Python package BeautifulSoup to remove HTML tags.\n",
    "    - Remove stop words, accented characters and punctuation: As stop words, punctuations, extra whitespaces and accented characters do not add useful information to our text processing algorithm, therefore have removed them using modules such as Unicode and spaCy.\n",
    "    - Treating Numbers: In our application numbers do not provide any significant knowledge and so, we have removed them. Firstly, in order to standardize the text, have converted number words to numeric form and then removed them from the textual data.\n",
    "3. Normalization – In this process, I have standardized the text into uniform sequence. I have converted the text to lowercase and using NLTK libraries performed stemming and lemmatization. Stemming refers to removing the suffixes attached to a word and lemmatization refers to conserving the root word of a word. We have used lemmatization for our textual data because that performed better with the pre-trained word embedding"
   ]
  },
  {
   "cell_type": "code",
   "execution_count": 4,
   "metadata": {
    "pycharm": {
     "is_executing": false,
     "name": "#%%\n"
    }
   },
   "outputs": [],
   "source": [
    "import re, unidecode\n",
    "from bs4 import BeautifulSoup\n",
    "from nltk.stem.porter import PorterStemmer \n",
    "from nltk.stem import WordNetLemmatizer \n",
    "from nltk.corpus import stopwords \n",
    "from nltk.tokenize import word_tokenize\n",
    "\n",
    "# Needed only once\n",
    "# import nltk\n",
    "# nltk.download('stopwords')\n",
    "# nltk.download('punkt')\n",
    "# nltk.download('wordnet')\n",
    "\n",
    "def remove_html_tags(text):\n",
    "    soup = BeautifulSoup(text, \"html.parser\")\n",
    "    stripped_text = soup.get_text(separator=\" \")\n",
    "    return stripped_text\n",
    "def remove_accented_chars(text):\n",
    "    text = unidecode.unidecode(text)\n",
    "    return text\n",
    "def remove_numbers(text): \n",
    "    result = re.sub(r'\\d+', '', text) \n",
    "    return result\n",
    "def remove_slash_with_space(text): \n",
    "    return text.replace('\\\\', \" \")\n",
    "def remove_punctuation(text): \n",
    "    translator = str.maketrans('', '', string.punctuation) \n",
    "    return text.translate(translator) \n",
    "def text_lowercase(text): \n",
    "    return text.lower()     \n",
    "def remove_whitespace(text): \n",
    "    return  \" \".join(text.split()) \n",
    "def remove_stopwords(text): \n",
    "    stop_words = set(stopwords.words(\"english\")) \n",
    "    word_tokens = word_tokenize(text) \n",
    "    filtered_text = [word for word in word_tokens if word not in stop_words] \n",
    "    return ' '.join(filtered_text)\n",
    "def stem_words(text): \n",
    "    stemmer = PorterStemmer() \n",
    "    word_tokens = word_tokenize(text) \n",
    "    stems = [stemmer.stem(word) for word in word_tokens] \n",
    "    return ' '.join(stems)\n",
    "def lemmatize_words(text): \n",
    "    lemmatizer = WordNetLemmatizer() \n",
    "    word_tokens = word_tokenize(text) \n",
    "    # provide context i.e. part-of-speech \n",
    "    lemmas = [lemmatizer.lemmatize(word, pos ='v') for word in word_tokens] \n",
    "    return ' '.join(lemmas) \n"
   ]
  },
  {
   "cell_type": "code",
   "execution_count": 5,
   "metadata": {},
   "outputs": [
    {
     "name": "stdout",
     "output_type": "stream",
     "text": [
      "Index(['Class Index', 'Title', 'Description'], dtype='object')\n"
     ]
    }
   ],
   "source": [
    "print(df_test.columns)\n"
   ]
  },
  {
   "cell_type": "code",
   "execution_count": 6,
   "metadata": {
    "pycharm": {
     "is_executing": false,
     "name": "#%%\n"
    },
    "scrolled": true
   },
   "outputs": [
    {
     "name": "stderr",
     "output_type": "stream",
     "text": [
      "/Users/rahul/anaconda3/lib/python3.10/site-packages/bs4/__init__.py:435: MarkupResemblesLocatorWarning: The input looks more like a filename than markup. You may want to open this file and pass the filehandle into Beautiful Soup.\n",
      "  warnings.warn(\n"
     ]
    }
   ],
   "source": [
    "# Perform preprocessing\n",
    "def perform_preprocessing(text):\n",
    "    text = remove_html_tags(text)\n",
    "    text = remove_accented_chars(text)\n",
    "    text = remove_numbers(text)\n",
    "    text = remove_stopwords(text)\n",
    "    text = text_lowercase(text)\n",
    "    text = remove_slash_with_space(text)\n",
    "    text = remove_punctuation(text)\n",
    "    # text = stem_words(text)\n",
    "    text = lemmatize_words(text)\n",
    "    text = remove_whitespace(text)\n",
    "    return text\n",
    "\n",
    "df_train['Title'] = df_train['Title'].apply(perform_preprocessing)\n",
    "df_train['Description'] = df_train['Description'].apply(perform_preprocessing)\n",
    "df_test['Title'] = df_test['Title'].apply(perform_preprocessing)\n",
    "df_test['Description'] = df_test['Description'].apply(perform_preprocessing)\n"
   ]
  },
  {
   "cell_type": "markdown",
   "metadata": {},
   "source": [
    "### Train test split"
   ]
  },
  {
   "cell_type": "code",
   "execution_count": 7,
   "metadata": {
    "pycharm": {
     "is_executing": false,
     "name": "#%%\n"
    }
   },
   "outputs": [],
   "source": [
    "X_train = df_train['Description']\n",
    "X_test = df_test['Description']\n",
    "y_train = df_train['Class Index']\n",
    "y_test = df_test['Class Index']"
   ]
  },
  {
   "cell_type": "markdown",
   "metadata": {
    "pycharm": {
     "name": "#%% md\n"
    }
   },
   "source": [
    "### Feature Engineering\n",
    "Text files are actually series of words (ordered). In order to run machine learning algorithms we need to convert the text files into numerical feature vectors.  \n",
    "\n",
    "We will implement the following different ideas in order to obtain relevant features from our dataset."
   ]
  },
  {
   "cell_type": "markdown",
   "metadata": {},
   "source": [
    "1. CountVectors – I have used scikit-learn library’s CountVectorizer module to vectorize sentences. It generates vocabulary for all unique words of sentence. From this count of words, a feature vector is created. This essentially is the Bag of Words BOW model. "
   ]
  },
  {
   "cell_type": "code",
   "execution_count": 8,
   "metadata": {
    "pycharm": {
     "is_executing": false,
     "name": "#%%\n"
    }
   },
   "outputs": [],
   "source": [
    "count_vect = CountVectorizer(analyzer='word', token_pattern=r'\\w{1,}')\n",
    "count_vect.fit(X_train)\n",
    "X_train_count =  count_vect.transform(X_train)\n",
    "X_test_count =  count_vect.transform(X_test)"
   ]
  },
  {
   "cell_type": "markdown",
   "metadata": {
    "pycharm": {
     "name": "#%% md\n"
    }
   },
   "source": [
    "2. TF-IDF Vectors Word level - Now in order to assign weightage to the above feature vector, we have used Term Frequency – Inverse Document Frequency logic. We have given a score to the words based on its Term Frequency (#words/ #Total words) and its Inverse Frequency, i.e. presence in each of the documents. It low scores repetitive words.\n",
    "\n",
    "![title](images/tfidf.png)"
   ]
  },
  {
   "cell_type": "code",
   "execution_count": 9,
   "metadata": {
    "pycharm": {
     "is_executing": false,
     "name": "#%%\n"
    }
   },
   "outputs": [],
   "source": [
    "# word level tf-idf\n",
    "tfidf_vect = TfidfVectorizer(analyzer='word', token_pattern=r'\\w{1,}', max_features=5000)\n",
    "tfidf_vect.fit(X_train)\n",
    "X_train_tfidf =  tfidf_vect.transform(X_train)\n",
    "X_test_tfidf =  tfidf_vect.transform(X_test)"
   ]
  },
  {
   "cell_type": "markdown",
   "metadata": {
    "pycharm": {
     "name": "#%% md\n"
    }
   },
   "source": [
    "3. TF-IDF Vectors N-Gram level – In this approach for better results, have combined N (>= 2) words to form N-grams. Bigrams (N=2) are the most optimal and best convey most important information among other N-grams. "
   ]
  },
  {
   "cell_type": "code",
   "execution_count": 10,
   "metadata": {
    "pycharm": {
     "is_executing": false,
     "name": "#%%\n"
    }
   },
   "outputs": [],
   "source": [
    "# ngram level tf-idf \n",
    "tfidf_vect_ngram = TfidfVectorizer(analyzer='word', token_pattern=r'\\w{1,}', ngram_range=(1,2), max_features=5000)\n",
    "tfidf_vect_ngram.fit(X_train)\n",
    "X_train_tfidf_ngram =  tfidf_vect_ngram.transform(X_train)\n",
    "X_test_tfidf_ngram =  tfidf_vect_ngram.transform(X_test)"
   ]
  },
  {
   "cell_type": "markdown",
   "metadata": {
    "pycharm": {
     "name": "#%% md\n"
    }
   },
   "source": [
    "4. TF-IDF Vectors Character level- character level"
   ]
  },
  {
   "cell_type": "code",
   "execution_count": 11,
   "metadata": {
    "pycharm": {
     "is_executing": false,
     "name": "#%%\n"
    }
   },
   "outputs": [
    {
     "name": "stderr",
     "output_type": "stream",
     "text": [
      "/Users/rahul/anaconda3/lib/python3.10/site-packages/sklearn/feature_extraction/text.py:558: UserWarning: The parameter 'token_pattern' will not be used since 'analyzer' != 'word'\n",
      "  warnings.warn(\n"
     ]
    }
   ],
   "source": [
    "# characters level tf-idf\n",
    "tfidf_vect_ngram_chars = TfidfVectorizer(analyzer='char', token_pattern=r'\\w{1,}', ngram_range=(2,3), max_features=5000)\n",
    "tfidf_vect_ngram_chars.fit(X_train)\n",
    "X_train_tfidf_ngram_chars =  tfidf_vect_ngram_chars.transform(X_train) \n",
    "X_test_tfidf_ngram_chars =  tfidf_vect_ngram_chars.transform(X_test) "
   ]
  },
  {
   "cell_type": "markdown",
   "metadata": {
    "pycharm": {
     "name": "#%% md\n"
    }
   },
   "source": [
    "5. Text / NLP based features - I tried adding additional NLP features namely word count, character count, average word density, title word count but I found them harmful to model accuracy. So, I have removed them. "
   ]
  },
  {
   "cell_type": "code",
   "execution_count": null,
   "metadata": {
    "pycharm": {
     "is_executing": false,
     "name": "#%%\n"
    }
   },
   "outputs": [],
   "source": []
  },
  {
   "cell_type": "code",
   "execution_count": 12,
   "metadata": {
    "pycharm": {
     "is_executing": false,
     "name": "#%%\n"
    }
   },
   "outputs": [],
   "source": [
    "# label encode the target variable \n",
    "encoder = preprocessing.LabelEncoder()\n",
    "y_train = encoder.fit_transform(y_train)\n",
    "y_test = encoder.fit_transform(y_test)\n",
    "\n",
    "encoder = preprocessing.LabelBinarizer()\n",
    "encoder.fit(y_train)\n",
    "y_train_bi = encoder.transform(y_train)\n",
    "y_test_bi = encoder.transform(y_test)"
   ]
  },
  {
   "cell_type": "markdown",
   "metadata": {
    "pycharm": {
     "name": "#%% md\n"
    }
   },
   "source": [
    "###\tMODEL SELECTION AND TRAINING\n",
    "#### Classical models (Used as a Baseline Model)"
   ]
  },
  {
   "cell_type": "code",
   "execution_count": 13,
   "metadata": {
    "pycharm": {
     "is_executing": false,
     "name": "#%%\n"
    }
   },
   "outputs": [],
   "source": [
    "def train_model(classifier, X_train, y_train, X_test, y_test, is_neural_net=False):\n",
    "    # fit the training dataset on the classifier\n",
    "    classifier.fit(X_train, y_train)\n",
    "    # predict the labels on validation dataset\n",
    "    predictions = classifier.predict(X_test)\n",
    "    return metrics.accuracy_score(predictions, y_test)"
   ]
  },
  {
   "cell_type": "markdown",
   "metadata": {
    "pycharm": {
     "name": "#%% md\n"
    }
   },
   "source": [
    "Naïve Bayes Classifier – This classification technique is based on Bayes’ Theorem and assumes independence among the predictors\n",
    "\n",
    "![title](images/nb.png)"
   ]
  },
  {
   "cell_type": "code",
   "execution_count": 14,
   "metadata": {
    "pycharm": {
     "is_executing": false,
     "name": "#%%\n"
    }
   },
   "outputs": [
    {
     "name": "stdout",
     "output_type": "stream",
     "text": [
      "NB, Count Vectors:  0.8956578947368421\n",
      "NB, WordLevel TF-IDF:  0.8836842105263157\n",
      "NB, N-Gram Vectors:  0.8797368421052632\n",
      "NB, CharLevel Vectors:  0.8444736842105263\n"
     ]
    },
    {
     "data": {
      "text/plain": [
       "<BarContainer object of 4 artists>"
      ]
     },
     "execution_count": 14,
     "metadata": {},
     "output_type": "execute_result"
    },
    {
     "data": {
      "image/png": "[encoded data removed]",
      "text/plain": [
       "<Figure size 640x480 with 1 Axes>"
      ]
     },
     "metadata": {},
     "output_type": "display_data"
    }
   ],
   "source": [
    "# Naive Bayes on Count Vectors\n",
    "accuracy1 = train_model(naive_bayes.MultinomialNB(), X_train_count, y_train, X_test_count, y_test)\n",
    "print(\"NB, Count Vectors: \", accuracy1)\n",
    "\n",
    "# Naive Bayes on Word Level TF IDF Vectors\n",
    "accuracy2 = train_model(naive_bayes.MultinomialNB(), X_train_tfidf, y_train, X_test_tfidf, y_test)\n",
    "print(\"NB, WordLevel TF-IDF: \", accuracy2)\n",
    "\n",
    "# Naive Bayes on Ngram Level TF IDF Vectors\n",
    "accuracy3 = train_model(naive_bayes.MultinomialNB(), X_train_tfidf_ngram, y_train, X_test_tfidf_ngram, y_test)\n",
    "print(\"NB, N-Gram Vectors: \", accuracy3)\n",
    "\n",
    "# Naive Bayes on Character Level TF IDF Vectors\n",
    "accuracy4 = train_model(naive_bayes.MultinomialNB(), X_train_tfidf_ngram_chars, y_train, X_test_tfidf_ngram_chars, y_test)\n",
    "print(\"NB, CharLevel Vectors: \", accuracy4)\n",
    "\n",
    "df = {'ModelType': ['NB Count', 'NB TF-IDF','NB Ngram', 'NB TF-IDF CharLevel' ], 'Accuracy': [accuracy1,accuracy2, accuracy3,accuracy4]}\n",
    "df = pandas.DataFrame(df) #\n",
    "plt.bar(df['ModelType'], df['Accuracy'])"
   ]
  },
  {
   "cell_type": "markdown",
   "metadata": {
    "pycharm": {
     "is_executing": false,
     "name": "#%% md\n"
    }
   },
   "source": [
    "Logistic Regression – This model uses a logistic/sigmoid function to calculate the probabilities of different values of the categorical dependent variable in presence of one or more predictors. Logit function is an estimation of log of odds in the favor of event and outputs a s-shaped curve with probability estimates.\n"
   ]
  },
  {
   "cell_type": "code",
   "execution_count": 15,
   "metadata": {
    "pycharm": {
     "is_executing": false,
     "name": "#%%\n"
    }
   },
   "outputs": [
    {
     "name": "stderr",
     "output_type": "stream",
     "text": [
      "/Users/rahul/anaconda3/lib/python3.10/site-packages/sklearn/linear_model/_logistic.py:458: ConvergenceWarning: lbfgs failed to converge (status=1):\n",
      "STOP: TOTAL NO. of ITERATIONS REACHED LIMIT.\n",
      "\n",
      "Increase the number of iterations (max_iter) or scale the data as shown in:\n",
      "    https://scikit-learn.org/stable/modules/preprocessing.html\n",
      "Please also refer to the documentation for alternative solver options:\n",
      "    https://scikit-learn.org/stable/modules/linear_model.html#logistic-regression\n",
      "  n_iter_i = _check_optimize_result(\n"
     ]
    },
    {
     "name": "stdout",
     "output_type": "stream",
     "text": [
      "LR, Count Vectors:  0.8997368421052632\n"
     ]
    },
    {
     "name": "stderr",
     "output_type": "stream",
     "text": [
      "/Users/rahul/anaconda3/lib/python3.10/site-packages/sklearn/linear_model/_logistic.py:458: ConvergenceWarning: lbfgs failed to converge (status=1):\n",
      "STOP: TOTAL NO. of ITERATIONS REACHED LIMIT.\n",
      "\n",
      "Increase the number of iterations (max_iter) or scale the data as shown in:\n",
      "    https://scikit-learn.org/stable/modules/preprocessing.html\n",
      "Please also refer to the documentation for alternative solver options:\n",
      "    https://scikit-learn.org/stable/modules/linear_model.html#logistic-regression\n",
      "  n_iter_i = _check_optimize_result(\n"
     ]
    },
    {
     "name": "stdout",
     "output_type": "stream",
     "text": [
      "LR, WordLevel TF-IDF:  0.8986842105263158\n"
     ]
    },
    {
     "name": "stderr",
     "output_type": "stream",
     "text": [
      "/Users/rahul/anaconda3/lib/python3.10/site-packages/sklearn/linear_model/_logistic.py:458: ConvergenceWarning: lbfgs failed to converge (status=1):\n",
      "STOP: TOTAL NO. of ITERATIONS REACHED LIMIT.\n",
      "\n",
      "Increase the number of iterations (max_iter) or scale the data as shown in:\n",
      "    https://scikit-learn.org/stable/modules/preprocessing.html\n",
      "Please also refer to the documentation for alternative solver options:\n",
      "    https://scikit-learn.org/stable/modules/linear_model.html#logistic-regression\n",
      "  n_iter_i = _check_optimize_result(\n"
     ]
    },
    {
     "name": "stdout",
     "output_type": "stream",
     "text": [
      "LR, N-Gram Vectors:  0.8969736842105264\n",
      "LR, CharLevel Vectors:  0.8838157894736842\n"
     ]
    },
    {
     "name": "stderr",
     "output_type": "stream",
     "text": [
      "/Users/rahul/anaconda3/lib/python3.10/site-packages/sklearn/linear_model/_logistic.py:458: ConvergenceWarning: lbfgs failed to converge (status=1):\n",
      "STOP: TOTAL NO. of ITERATIONS REACHED LIMIT.\n",
      "\n",
      "Increase the number of iterations (max_iter) or scale the data as shown in:\n",
      "    https://scikit-learn.org/stable/modules/preprocessing.html\n",
      "Please also refer to the documentation for alternative solver options:\n",
      "    https://scikit-learn.org/stable/modules/linear_model.html#logistic-regression\n",
      "  n_iter_i = _check_optimize_result(\n"
     ]
    },
    {
     "data": {
      "text/plain": [
       "<BarContainer object of 4 artists>"
      ]
     },
     "execution_count": 15,
     "metadata": {},
     "output_type": "execute_result"
    },
    {
     "data": {
      "image/png": "[encoded data removed]",
      "text/plain": [
       "<Figure size 640x480 with 1 Axes>"
      ]
     },
     "metadata": {},
     "output_type": "display_data"
    }
   ],
   "source": [
    "# Logistic Regression on Count Vectors\n",
    "accuracy1 = train_model(linear_model.LogisticRegression(), X_train_count, y_train, X_test_count, y_test)\n",
    "print(\"LR, Count Vectors: \", accuracy1)\n",
    "\n",
    "# Logistic Regression on Word Level TF IDF Vectors\n",
    "accuracy2 = train_model(linear_model.LogisticRegression(), X_train_tfidf, y_train, X_test_tfidf, y_test)\n",
    "print(\"LR, WordLevel TF-IDF: \", accuracy2)\n",
    "\n",
    "# Logistic Regression on Ngram Level TF IDF Vectors\n",
    "accuracy3 = train_model(linear_model.LogisticRegression(), X_train_tfidf_ngram, y_train, X_test_tfidf_ngram, y_test)\n",
    "print(\"LR, N-Gram Vectors: \", accuracy3)\n",
    "\n",
    "# Logistic Regression on Character Level TF IDF Vectors\n",
    "accuracy4 = train_model(linear_model.LogisticRegression(), X_train_tfidf_ngram_chars, y_train, X_test_tfidf_ngram_chars, y_test)\n",
    "print(\"LR, CharLevel Vectors: \", accuracy4)\n",
    "\n",
    "df = {'ModelType': ['LR Count', 'LR TF-IDF','LR Ngram', 'LR TF-IDF CharLevel' ], 'Accuracy': [accuracy1,accuracy2, accuracy3,accuracy4]}\n",
    "df = pandas.DataFrame(df) #\n",
    "plt.bar(df['ModelType'], df['Accuracy'])"
   ]
  },
  {
   "cell_type": "markdown",
   "metadata": {
    "pycharm": {
     "is_executing": false,
     "name": "#%% md\n"
    }
   },
   "source": [
    "Bagging Model (Random Forest) - Random Forest models are a type of ensemble models, particularly bagging models. The main aim of these models is to reduce the overfitting. They work towards reducing the model complexity. "
   ]
  },
  {
   "cell_type": "code",
   "execution_count": 16,
   "metadata": {
    "pycharm": {
     "is_executing": false,
     "name": "#%%\n"
    }
   },
   "outputs": [
    {
     "name": "stdout",
     "output_type": "stream",
     "text": [
      "RF, Count Vectors:  0.8888157894736842\n",
      "RF, WordLevel TF-IDF:  0.8753947368421052\n"
     ]
    }
   ],
   "source": [
    "# RF on Count Vectors\n",
    "accuracy1 = train_model(ensemble.RandomForestClassifier(), X_train_count, y_train, X_test_count, y_test)\n",
    "print(\"RF, Count Vectors: \", accuracy1)\n",
    "\n",
    "# RF on Word Level TF IDF Vectors\n",
    "accuracy2 = train_model(ensemble.RandomForestClassifier(), X_train_tfidf, y_train, X_test_tfidf, y_test)\n",
    "print(\"RF, WordLevel TF-IDF: \", accuracy2)"
   ]
  },
  {
   "cell_type": "markdown",
   "metadata": {},
   "source": [
    "*********************************************************************************************************************\n",
    "## Contribution  Code :\n"
   ]
  },
  {
   "cell_type": "markdown",
   "metadata": {
    "pycharm": {
     "name": "#%% md\n"
    }
   },
   "source": [
    "XG Boost - Boosting models are type of ensemble models and work to improve the model prediction rates. This model is meta-algorithm for reducing bias and variance in supervised learning. One of its strong points is that it converts weak learner i.e. classifiers slightly correlated to the true classification into stronger ones. "
   ]
  },
  {
   "cell_type": "code",
   "execution_count": 17,
   "metadata": {
    "pycharm": {
     "is_executing": false,
     "name": "#%%\n"
    }
   },
   "outputs": [
    {
     "name": "stdout",
     "output_type": "stream",
     "text": [
      "Xgb, Count Vectors:  0.8803947368421052\n",
      "Xgb, WordLevel TF-IDF:  0.8838157894736842\n"
     ]
    },
    {
     "data": {
      "text/plain": [
       "<BarContainer object of 4 artists>"
      ]
     },
     "execution_count": 17,
     "metadata": {},
     "output_type": "execute_result"
    },
    {
     "data": {
      "image/png": "[encoded data removed]",
      "text/plain": [
       "<Figure size 640x480 with 1 Axes>"
      ]
     },
     "metadata": {},
     "output_type": "display_data"
    }
   ],
   "source": [
    "# Extereme Gradient Boosting (XG boost) on Count Vectors\n",
    "accuracy3 = train_model(xgboost.XGBClassifier(), X_train_count.tocsc(), y_train, X_test_count.tocsc(), y_test)\n",
    "print(\"Xgb, Count Vectors: \", accuracy3)\n",
    "\n",
    "# Extereme Gradient Boosting on Word Level TF IDF Vectors\n",
    "accurac4 = train_model(xgboost.XGBClassifier(), X_train_tfidf.tocsc(), y_train, X_test_tfidf.tocsc(), y_test)\n",
    "print(\"Xgb, WordLevel TF-IDF: \", accuracy4)\n",
    "\n",
    "# # Extereme Gradient Boosting on Character Level TF IDF Vectors\n",
    "# accuracy = train_model(xgboost.XGBClassifier(), X_train_tfidf_ngram_chars.tocsc(), y_train, X_test_tfidf_ngram_chars.tocsc(), y_test)\n",
    "# print(\"Xgb, CharLevel Vectors: \", accuracy)\n",
    "df = {'ModelType': ['RF count', 'RF TF-IDF','XG Count', 'XG TF-IDF' ], 'Accuracy': [accuracy1,accuracy2, accuracy3,accuracy4]}\n",
    "df = pandas.DataFrame(df) #\n",
    "plt.bar(df['ModelType'], df['Accuracy'])"
   ]
  },
  {
   "cell_type": "code",
   "execution_count": 18,
   "metadata": {},
   "outputs": [
    {
     "name": "stdout",
     "output_type": "stream",
     "text": [
      "MLP Accuracy:  0.8785526315789474\n"
     ]
    },
    {
     "name": "stderr",
     "output_type": "stream",
     "text": [
      "/var/folders/tm/pqzwdcw930x00wg_7jm3q4vw0000gn/T/ipykernel_1422/2648734617.py:10: FutureWarning: The frame.append method is deprecated and will be removed from pandas in a future version. Use pandas.concat instead.\n",
      "  df = df.append(df_mlp, ignore_index=True)\n"
     ]
    },
    {
     "data": {
      "image/png": "[encoded data removed]",
      "text/plain": [
       "<Figure size 1000x600 with 1 Axes>"
      ]
     },
     "metadata": {},
     "output_type": "display_data"
    }
   ],
   "source": [
    "from sklearn.neural_network import MLPClassifier\n",
    "import pandas as pd\n",
    "\n",
    "#Train and evaluate MLP classifier\n",
    "mlp = MLPClassifier(hidden_layer_sizes=(100, 50), max_iter=1000, activation='relu', random_state=42)\n",
    "accuracy_mlp = train_model(mlp, X_train_tfidf_ngram_chars, y_train, X_test_tfidf_ngram_chars, y_test)\n",
    "print(\"MLP Accuracy: \", accuracy_mlp)\n",
    "\n",
    "df_mlp = pd.DataFrame({'ModelType': ['MLP'], 'Accuracy': [accuracy_mlp]})\n",
    "df = df.append(df_mlp, ignore_index=True)\n",
    "\n",
    "# Create the final bar chart\n",
    "plt.figure(figsize=(10, 6))\n",
    "plt.bar(df['ModelType'], df['Accuracy'], color=['blue', 'orange', 'green', 'red', 'purple'])\n",
    "plt.ylabel('Accuracy')\n",
    "plt.title('Classifier Accuracy Comparison')\n",
    "plt.xticks(rotation=45)\n",
    "plt.tight_layout()\n",
    "\n",
    "# Show the plot\n",
    "plt.show()"
   ]
  },
  {
   "cell_type": "markdown",
   "metadata": {},
   "source": [
    "### Results :\n",
    "*******************************************************************************************************************************\n",
    "In our study, we systematically assessed multiple machine learning models across a range of feature representations for the task of technical document classification. In this exploration, my contribution led to the achievement of an accuracy of 88% using XGBoost (XGB) and 87% using Multi-Layer Perceptron (MLP). These figures are quite comparable to the accuracies achieved by Naive Bayes (NB) , LR and Random Forest (RF), which underscores the effectiveness of these models.\n",
    "\n",
    "\n",
    "#### Observations :\n",
    "*******************************************************************************************************************************\n",
    "However, what sets XGB and MLP apart lies in their distinct methodologies. XGB capitalizes on boosting techniques, strategically amalgamating the capabilities of several models to attain its heightened accuracy. On the other hand, MLP harnesses the power of neural networks, facilitating the recognition of intricate patterns inherent in the data.\n",
    "\n",
    "Even though the numerical outcomes might appear similar, the contrasting approaches reveal the underlying diversity of methods employed by these models. This duality emphasizes the critical nature of considering not only the final result but also the techniques and strategies that propel these results.\n"
   ]
  },
  {
   "cell_type": "markdown",
   "metadata": {
    "pycharm": {
     "is_executing": false,
     "name": "#%% md\n"
    }
   },
   "source": [
    "To further improve the performance of the model and studying the recent advancement in NLP, I used the following Neural network models for the problem statement-\n",
    "### Shallow Neural Network\n",
    "Neural networks or feedforward neural networks. These have multiple layers of neurons arranged in fashion similar to that of human brain. The input feature vector is processed at each layer and then forwarded to the next hidden layer. The output for the next layer is created by multiplying the input with weight w and bias b. All of this summed up and then passed on to the activation function. I have rectified linear unit (ReLU) function. The algorithm initializes the weights and trains them using backpropagation. We reduced the error of the predicted output, it uses optimization methods like the gradient descent.\n",
    "\n",
    "![title](images/nb.png)\n",
    "#### Parameters\n",
    "In order to have minimum training loss and maximize the accuracy, I have specified epochs of 10. So, on an average I have trained my model in 10 rounds. Also, I have setup the batch size as 50. This essentially means that I have used 50 samples in one forward and backward pass to optimize the computation rate and memory consumption. Validation split of 10 % is used, this is a split of training data to calculate loss function and should be kept apart from testing set in order to not let testing set to influence the model. "
   ]
  },
  {
   "cell_type": "code",
   "execution_count": 19,
   "metadata": {
    "pycharm": {
     "is_executing": false,
     "name": "#%%\n"
    }
   },
   "outputs": [],
   "source": [
    "plt.style.use('ggplot')\n",
    "def plot_history(history):\n",
    "    acc = history.history['accuracy']\n",
    "    val_acc = history.history['val_accuracy']\n",
    "    loss = history.history['loss']\n",
    "    val_loss = history.history['val_loss']\n",
    "    x = range(1, len(acc) + 1)\n",
    "\n",
    "    plt.figure(figsize=(12, 5))\n",
    "    plt.subplot(1, 2, 1)\n",
    "    plt.plot(x, acc, 'b', label='Training acc')\n",
    "    plt.plot(x, val_acc, 'r', label='Validation acc')\n",
    "    plt.title('Training and validation accuracy')\n",
    "    plt.legend()\n",
    "    plt.subplot(1, 2, 2)\n",
    "    plt.plot(x, loss, 'b', label='Training loss')\n",
    "    plt.plot(x, val_loss, 'r', label='Validation loss')\n",
    "    plt.title('Training and validation loss')\n",
    "    plt.legend()"
   ]
  },
  {
   "cell_type": "code",
   "execution_count": 20,
   "metadata": {
    "pycharm": {
     "is_executing": false,
     "name": "#%%\n"
    }
   },
   "outputs": [
    {
     "name": "stdout",
     "output_type": "stream",
     "text": [
      "Epoch 1/10\n",
      "1080/1080 [==============================] - 56s 51ms/step - loss: 0.3531 - accuracy: 0.8891 - val_loss: 0.2873 - val_accuracy: 0.8977\n",
      "Epoch 2/10\n",
      "1080/1080 [==============================] - 44s 41ms/step - loss: 0.2402 - accuracy: 0.9157 - val_loss: 0.3074 - val_accuracy: 0.8908\n",
      "Epoch 3/10\n",
      "1080/1080 [==============================] - 51s 47ms/step - loss: 0.1976 - accuracy: 0.9298 - val_loss: 0.3160 - val_accuracy: 0.8923\n",
      "Epoch 4/10\n",
      "1080/1080 [==============================] - 49s 46ms/step - loss: 0.1561 - accuracy: 0.9455 - val_loss: 0.3410 - val_accuracy: 0.8911\n",
      "Epoch 5/10\n",
      "1080/1080 [==============================] - 47s 44ms/step - loss: 0.1125 - accuracy: 0.9623 - val_loss: 0.3720 - val_accuracy: 0.8898\n",
      "Epoch 6/10\n",
      "1080/1080 [==============================] - 50s 46ms/step - loss: 0.0740 - accuracy: 0.9765 - val_loss: 0.4238 - val_accuracy: 0.8876\n",
      "Epoch 7/10\n",
      "1080/1080 [==============================] - 45s 41ms/step - loss: 0.0470 - accuracy: 0.9863 - val_loss: 0.4804 - val_accuracy: 0.8848\n",
      "Epoch 8/10\n",
      "1080/1080 [==============================] - 45s 41ms/step - loss: 0.0316 - accuracy: 0.9910 - val_loss: 0.5081 - val_accuracy: 0.8854\n",
      "Epoch 9/10\n",
      "1080/1080 [==============================] - 52s 48ms/step - loss: 0.0240 - accuracy: 0.9931 - val_loss: 0.5512 - val_accuracy: 0.8852\n",
      "Epoch 10/10\n",
      "1080/1080 [==============================] - 51s 47ms/step - loss: 0.0207 - accuracy: 0.9942 - val_loss: 0.5846 - val_accuracy: 0.8828\n",
      "Training Accuracy: 0.9848\n",
      "Testing Accuracy: 0.8904\n"
     ]
    }
   ],
   "source": [
    "from tensorflow import keras\n",
    "from tensorflow.keras import layers, models\n",
    "import numpy as np\n",
    "\n",
    "# Convert sparse matrices to NumPy arrays\n",
    "X_train_tfidf_array = X_train_tfidf.toarray()\n",
    "X_test_tfidf_array = X_test_tfidf.toarray()\n",
    "\n",
    "vocab_size = X_train_tfidf_array.shape[1]\n",
    "num_labels = 4\n",
    "batch_size = 100\n",
    "\n",
    "model = models.Sequential()\n",
    "model.add(layers.Dense(512, input_shape=(vocab_size,)))\n",
    "model.add(layers.Activation('relu'))\n",
    "model.add(layers.Dense(num_labels))\n",
    "model.add(layers.Activation('softmax'))\n",
    "\n",
    "model.compile(loss='categorical_crossentropy',\n",
    "              optimizer='adam',\n",
    "              metrics=['accuracy'])\n",
    "\n",
    "history = model.fit(X_train_tfidf_array, y_train_bi,\n",
    "                    batch_size=batch_size,\n",
    "                    epochs=10,\n",
    "                    validation_split=0.1,\n",
    "                    verbose=1)\n",
    "\n",
    "loss, accuracy = model.evaluate(X_train_tfidf_array, y_train_bi, verbose=False)\n",
    "print(\"Training Accuracy: {:.4f}\".format(accuracy))\n",
    "loss, accuracy = model.evaluate(X_test_tfidf_array, y_test_bi, verbose=False)\n",
    "print(\"Testing Accuracy: {:.4f}\".format(accuracy))\n"
   ]
  },
  {
   "cell_type": "code",
   "execution_count": 21,
   "metadata": {
    "pycharm": {
     "is_executing": false,
     "name": "#%%\n"
    }
   },
   "outputs": [],
   "source": [
    "vocab_size = 15000\n",
    "num_labels = 4\n",
    "batch_size = 100\n",
    "maxlen = 200\n",
    "\n",
    "tokenizer = text.Tokenizer(num_words=vocab_size)\n",
    "tokenizer.fit_on_texts(X_train)\n",
    "\n",
    "X_train_token = tokenizer.texts_to_sequences(X_train)\n",
    "X_test_token = tokenizer.texts_to_sequences(X_test)\n",
    "\n",
    "vocab_size = len(tokenizer.word_index) + 1  # Adding again 1 because of reserved 0 index\n",
    "\n",
    "X_train_token = sequence.pad_sequences(X_train_token, padding='post', maxlen=maxlen)\n",
    "X_test_token = sequence.pad_sequences(X_test_token, padding='post', maxlen=maxlen)\n",
    "embedding_dim = 300"
   ]
  },
  {
   "cell_type": "markdown",
   "metadata": {
    "pycharm": {
     "name": "#%% md\n"
    }
   },
   "source": [
    "### More Feature Engineering\n",
    "#### Word Embeddings (It has been found to work well with neural networks)\n",
    "In this I have sought to represent words in the form of vectors. It preserves contextually similar words and reduces the high dimensional word features to low dimensional feature vectors. Deep learning model namely RNN and CNN use it in their algorithm. I have used GIoVe to create word embedding of a text. The module of Word2Vec has a preprocessing module, a continuous bag of words and skip-grams. The latter two features are essentially shallow neural networks.\n",
    "\n",
    "#### Using Pretrained Word Embeddings\n",
    "Among the most popular methods are Word2Vec developed by Google and GloVe (Global Vectors for Word Representation) developed by the Stanford NLP Group.\n",
    "\n",
    "I have used Glove since it is faster, although less accurate than Word2Vec. GloVe uses co-occurrence matrix and matrix factorization to acheive dimensionality reduction\n",
    "\n",
    "Download-glove(822mb) - http://nlp.stanford.edu/data/glove.6B.zip\n",
    " \n",
    "Extract the zip under dataset/"
   ]
  },
  {
   "cell_type": "code",
   "execution_count": 22,
   "metadata": {
    "pycharm": {
     "is_executing": false,
     "name": "#%%\n"
    }
   },
   "outputs": [
    {
     "name": "stdout",
     "output_type": "stream",
     "text": [
      "0.7124692438528989\n"
     ]
    }
   ],
   "source": [
    "# create embedding matrix using pre-trained word vectors\n",
    "def create_embedding_matrix(filepath, word_index, embedding_dim):\n",
    "    embedding_matrix = numpy.zeros((vocab_size, embedding_dim))\n",
    "\n",
    "    with open(filepath,'r', encoding='utf-8', newline='\\n', errors='ignore') as f:\n",
    "        for line in f:\n",
    "            word, *vector = line.split()\n",
    "            if word in word_index:\n",
    "                idx = word_index[word] \n",
    "                embedding_matrix[idx] = numpy.array(\n",
    "                    vector, dtype=numpy.float32)[:embedding_dim]\n",
    "\n",
    "    return embedding_matrix\n",
    "\n",
    "#basic new word embed\n",
    "embedding_matrix = create_embedding_matrix('/Users/rahul/Desktop/rm/project data/glove.6B.300d.txt',tokenizer.word_index, embedding_dim)\n",
    "nonzero_elements = numpy.count_nonzero(numpy.count_nonzero(embedding_matrix, axis=1))\n",
    "print(nonzero_elements / vocab_size)\n"
   ]
  },
  {
   "cell_type": "code",
   "execution_count": 23,
   "metadata": {
    "pycharm": {
     "is_executing": false,
     "name": "#%%\n"
    }
   },
   "outputs": [
    {
     "name": "stdout",
     "output_type": "stream",
     "text": [
      "Epoch 1/10\n",
      "1080/1080 [==============================] - 328s 303ms/step - loss: 0.3850 - accuracy: 0.8699 - val_loss: 0.2977 - val_accuracy: 0.8938\n",
      "Epoch 2/10\n",
      "1080/1080 [==============================] - 291s 270ms/step - loss: 0.2392 - accuracy: 0.9188 - val_loss: 0.2885 - val_accuracy: 0.8973\n",
      "Epoch 3/10\n",
      "1080/1080 [==============================] - 346s 321ms/step - loss: 0.1738 - accuracy: 0.9403 - val_loss: 0.2956 - val_accuracy: 0.8975\n",
      "Epoch 4/10\n",
      "1080/1080 [==============================] - 337s 312ms/step - loss: 0.1219 - accuracy: 0.9583 - val_loss: 0.3465 - val_accuracy: 0.8913\n",
      "Epoch 5/10\n",
      "1080/1080 [==============================] - 293s 271ms/step - loss: 0.0812 - accuracy: 0.9722 - val_loss: 0.3684 - val_accuracy: 0.8909\n",
      "Epoch 6/10\n",
      "1080/1080 [==============================] - 321s 297ms/step - loss: 0.0523 - accuracy: 0.9822 - val_loss: 0.4647 - val_accuracy: 0.8810\n",
      "Epoch 7/10\n",
      "1080/1080 [==============================] - 343s 318ms/step - loss: 0.0385 - accuracy: 0.9871 - val_loss: 0.5242 - val_accuracy: 0.8815\n",
      "Epoch 8/10\n",
      "1080/1080 [==============================] - 298s 276ms/step - loss: 0.0284 - accuracy: 0.9910 - val_loss: 0.6921 - val_accuracy: 0.8715\n",
      "Epoch 9/10\n",
      "1080/1080 [==============================] - 319s 296ms/step - loss: 0.0259 - accuracy: 0.9916 - val_loss: 0.5623 - val_accuracy: 0.8873\n",
      "Epoch 10/10\n",
      "1080/1080 [==============================] - 321s 297ms/step - loss: 0.0214 - accuracy: 0.9932 - val_loss: 0.5959 - val_accuracy: 0.8833\n",
      "Training Accuracy: 0.9849\n",
      "Testing Accuracy:  0.8922\n"
     ]
    }
   ],
   "source": [
    "# Shallow neural network basic with word embedding matrix\n",
    "embedding_dim = 300\n",
    "\n",
    "model = models.Sequential()\n",
    "model.add(layers.Embedding(input_dim=vocab_size, \n",
    "                           output_dim=embedding_dim,\n",
    "                           weights=[embedding_matrix],\n",
    "                           input_length=maxlen,\n",
    "                           trainable=True))\n",
    "model.add(layers.GlobalMaxPool1D())\n",
    "model.add(layers.Dense(512, input_shape=(vocab_size,)))\n",
    "model.add(layers.Activation('relu'))\n",
    "model.add(layers.Dense(4))\n",
    "model.add(layers.Activation('softmax'))\n",
    "# model.summary()\n",
    " \n",
    "model.compile(loss='categorical_crossentropy',\n",
    "              optimizer='adam',\n",
    "              metrics=['accuracy'])\n",
    " \n",
    "history = model.fit(X_train_token, y_train_bi,\n",
    "                    batch_size=batch_size,\n",
    "                    epochs=10,\n",
    "                    validation_split=0.1,\n",
    "                    verbose=1)\n",
    "\n",
    "loss, accuracy = model.evaluate(X_train_token, y_train_bi, verbose=False)\n",
    "print(\"Training Accuracy: {:.4f}\".format(accuracy))\n",
    "loss, accuracy = model.evaluate(X_test_token, y_test_bi, verbose=False)\n",
    "print(\"Testing Accuracy:  {:.4f}\".format(accuracy))\n"
   ]
  },
  {
   "cell_type": "code",
   "execution_count": 24,
   "metadata": {
    "pycharm": {
     "is_executing": false,
     "name": "#%%\n"
    }
   },
   "outputs": [
    {
     "data": {
      "image/png": "[encoded data removed]",
      "text/plain": [
       "<Figure size 1200x500 with 2 Axes>"
      ]
     },
     "metadata": {},
     "output_type": "display_data"
    }
   ],
   "source": [
    "plot_history(history)"
   ]
  },
  {
   "cell_type": "markdown",
   "metadata": {
    "pycharm": {
     "name": "#%% md\n"
    }
   },
   "source": [
    "### Deep neural network \n",
    "I have used keras for setting up the deep neural network. It relies on highly dedicated or specialized tensor libraries: Theano and tensor flow 2.1. keras doesn’t handle tensor manipulation and differentiation. The embedding layer takes the precalculated integers, uses the embedding matrix of the pretrained vectors to assigns the dense vectors. This result is fed into flatten layer for sequential input. From there it is fed to dense layer. I have also used GlobalMaxPooling ID after the embedding. Thisreduces the sample size by choosing maximum value of all the features.\n",
    "\n",
    "#### Convolutional Neural Network (Covnets)\n",
    "It is a specialized deep neural network to identify peculiar trends which is used to discern the most important information in a sentence. The hidden layers called convolutional layer starts with a sample of input features of the dimensions of kernel filters. The dot product between the patch and multiplied weights of filter is taken. I have used one dimensional CNN which is unaffected by translations i.e. it can understand patterns at different position. The patch of filters slide filter slide over embedding matrix and extracts a specific pattern of n-gram. So, the kernels keep covering larger part of document until it creates global summarization of features A max-pooling strategy to subsample the input using max function is applied after every convolutional layer. It has two uses – it provides fixed-length output and reduces output dimensionality of most important features. Such layers are stacked multiple times to improve mining of abstract information.\n",
    "\n",
    "![title](images/cnn.png)"
   ]
  },
  {
   "cell_type": "code",
   "execution_count": 25,
   "metadata": {
    "pycharm": {
     "is_executing": false,
     "name": "#%%\n"
    }
   },
   "outputs": [
    {
     "name": "stdout",
     "output_type": "stream",
     "text": [
      "Epoch 1/10\n",
      "3600/3600 [==============================] - 1466s 407ms/step - loss: 0.3318 - accuracy: 0.8885 - val_loss: 0.2680 - val_accuracy: 0.9045\n",
      "Epoch 2/10\n",
      "3600/3600 [==============================] - 1646s 457ms/step - loss: 0.2328 - accuracy: 0.9209 - val_loss: 0.2554 - val_accuracy: 0.9105\n",
      "Epoch 3/10\n",
      "3600/3600 [==============================] - 1381s 384ms/step - loss: 0.1798 - accuracy: 0.9368 - val_loss: 0.2835 - val_accuracy: 0.9052\n",
      "Epoch 4/10\n",
      "3600/3600 [==============================] - 1315s 365ms/step - loss: 0.1401 - accuracy: 0.9487 - val_loss: 0.2995 - val_accuracy: 0.9067\n",
      "Epoch 5/10\n",
      "3600/3600 [==============================] - 1336s 371ms/step - loss: 0.1088 - accuracy: 0.9595 - val_loss: 0.3677 - val_accuracy: 0.9040\n",
      "Epoch 6/10\n",
      "3600/3600 [==============================] - 1498s 416ms/step - loss: 0.0871 - accuracy: 0.9676 - val_loss: 0.3904 - val_accuracy: 0.9018\n",
      "Epoch 7/10\n",
      "3600/3600 [==============================] - 1547s 430ms/step - loss: 0.0746 - accuracy: 0.9720 - val_loss: 0.4851 - val_accuracy: 0.9015\n",
      "Epoch 8/10\n",
      "3600/3600 [==============================] - 2124s 590ms/step - loss: 0.0632 - accuracy: 0.9772 - val_loss: 0.4991 - val_accuracy: 0.9020\n",
      "Epoch 9/10\n",
      "3600/3600 [==============================] - 1384s 385ms/step - loss: 0.0576 - accuracy: 0.9793 - val_loss: 0.5859 - val_accuracy: 0.8995\n",
      "Epoch 10/10\n",
      "3600/3600 [==============================] - 3330s 925ms/step - loss: 0.0522 - accuracy: 0.9813 - val_loss: 0.6101 - val_accuracy: 0.9026\n",
      "Training Accuracy: 0.9859\n",
      "Testing Accuracy:  0.9064\n"
     ]
    }
   ],
   "source": [
    "# Deep Neural networks CNN\n",
    "model = models.Sequential()\n",
    "model.add(layers.Embedding(input_dim=vocab_size, \n",
    "                           output_dim=embedding_dim,\n",
    "                           weights=[embedding_matrix],\n",
    "                           input_length=maxlen,\n",
    "                           trainable=True))\n",
    "model.add(layers.SpatialDropout1D(0.3))\n",
    "model.add(layers.Conv1D(128, 5, activation='relu'))\n",
    "model.add(layers.GlobalMaxPool1D())\n",
    "model.add(layers.Dense(256))\n",
    "model.add(layers.Activation('relu'))\n",
    "model.add(layers.Dropout(0.25))\n",
    "model.add(layers.Dense(4))\n",
    "model.add(layers.Activation('softmax'))\n",
    "# model.summary()\n",
    " \n",
    "model.compile(loss='categorical_crossentropy',\n",
    "              optimizer='adam',\n",
    "              metrics=['accuracy'])\n",
    " \n",
    "history = model.fit(X_train_token, y_train_bi,\n",
    "                    batch_size=30,\n",
    "                    epochs=10,\n",
    "                    validation_split=0.1,\n",
    "                    verbose=1)\n",
    "\n",
    "loss, accuracy = model.evaluate(X_train_token, y_train_bi, verbose=False)\n",
    "print(\"Training Accuracy: {:.4f}\".format(accuracy))\n",
    "loss, accuracy = model.evaluate(X_test_token, y_test_bi, verbose=False)\n",
    "print(\"Testing Accuracy:  {:.4f}\".format(accuracy))"
   ]
  },
  {
   "cell_type": "markdown",
   "metadata": {},
   "source": [
    "## Result\n",
    "\n",
    "In the task of classifying technical documents, we assessed various machine learning models using distinct feature representations. Below is a summary of the average accuracy achieved by each model:\n",
    "\n",
    "Naive Bayes (NB): Achieved 88% average accuracy, demonstrating its simplicity and speed in text classification.\n",
    "Logistic Regression (LR): Attained an average accuracy of 89%, highlighting its effectiveness as a linear classification technique.\n",
    "Random Forest (RF): Recorded an average accuracy of 87%, leveraging ensemble learning for improved predictions.\n",
    "XGBoost (XGB): Achieved an average accuracy of 88%, showcasing the power of boosting algorithms.\n",
    "Multi-Layer Perceptron (MLP): Showed an average accuracy of 87%, utilizing neural networks for capturing intricate patterns.\n",
    "Convolutional Neural Network (CNN): Outperformed others with an average accuracy of 90%, underscoring its adaptability to text classification tasks.\n",
    "While accuracy was our primary metric, the choice of evaluation criteria depends on specific application requirements. In conclusion, the Convolutional Neural Network (CNN) demonstrated superior potential in accurate technical document classification.\n",
    "\n",
    "## Conclusion\n",
    "To sum up, our study looked at different ways to classify technical documents. We tested traditional methods and newer ones using neural networks. While the older methods did well, the new neural network methods did even better. As we gather more data, the newer methods will likely get even better compared to the older ones.\n",
    "\n",
    "By using a technique called word embedding, we improved accuracy by 2-3% and made training the models faster. Among the new methods, the Convolutional Neural Network (CNN) was the standout performer.\n",
    "\n",
    "As companies gather more and more technical documents, it's really important to be able to sort and organize them accurately and quickly. Our study suggests that by combining older and newer techniques, like neural networks and word embedding, we can make this process even better. The future looks promising for improving how we handle technical documents, making them more accurate and efficient to work with."
   ]
  },
  {
   "cell_type": "markdown",
   "metadata": {},
   "source": [
    "\n",
    "*******************************************************************************************************************************\n",
    "## Learnings : \n",
    "During this project, I learnt how to replicate a paper using github repo and make changes in the source code of a package. Document Classifier was already present as a python package however I cloned the repo made some changes in the source code for the smooth working of code. I also learnt how we can vertically stack together various deep learning model layers and randomize the input layer and number of nodes.Our exploration into the realm of technical document classification illuminated the strengths and nuances of different machine learning models and techniques.\n",
    "\n",
    "One key takeaway is the significance of model selection based on specific requirements. We observed that each model excelled in certain aspects, whether it was the simplicity of Naive Bayes (NB), the linear efficiency of Logistic Regression (LR), the ensemble power of Random Forest (RF), or the boosting prowess of XGBoost (XGB). These distinct capabilities underscore the importance of tailoring choices to match the task's objectives.\n",
    "\n",
    "Furthermore, the introduction of neural network models opened up a realm of possibilities. While the traditional methods yielded commendable results, the neural networks, particularly the Convolutional Neural Network (CNN), exhibited remarkable adaptability and outperformed others. This experience highlighted the ever-evolving landscape of machine learning and the potential for innovative techniques to push the boundaries of accuracy and efficiency.\n",
    "\n",
    "*******************************************************************************************************************************\n",
    "## Limitations :\n",
    "In our study on technical document classification, it's important to acknowledge a few limitations:\n",
    "\n",
    "##### 1. Dataset Scope: \n",
    "Our dataset might not fully cover all real-world scenarios.\n",
    "##### 2. Class Imbalance: \n",
    "Uneven class distribution could affect model accuracy.\n",
    "##### 3. Feature Techniques:\n",
    "We explored various features, but other methods might yield better results.\n",
    "##### 4. Evaluation Metrics:\n",
    "Beyond accuracy, other metrics like precision and recall might provide a broader view.\n",
    "\n",
    "\n",
    "\n",
    "*******************************************************************************************************************************\n",
    "## Future Extension :\n",
    "Looking ahead, there are exciting opportunities to enhance technical document classification:\n",
    "\n",
    "##### 1. Semantic Understanding: \n",
    "Advanced NLP techniques for deeper meaning extraction.\n",
    "##### 2. Attention Mechanisms: \n",
    "Focus on key document sections within neural networks.\n",
    "##### 3. Ensemble Approaches: \n",
    "Combine models for higher accuracy and reliability.\n",
    "##### 4. Transfer Learning: \n",
    "Pretrained models fine-tuned for specific documents.\n",
    "##### 5. Ethical Considerations: \n",
    "Address privacy and proprietary content concerns responsibly.\n",
    "\n",
    " These extensions have the potential to revolutionize technical document classification for accuracy and adaptability."
   ]
  },
  {
   "cell_type": "markdown",
   "metadata": {},
   "source": [
    "# References:\n",
    "[1]:  S. (2020, August 18). GitHub - saurabh1907/document-classification-ml-nlp: Document classification into four defined categories (World, Sports, Business, Sci/Tech). Text Pre-processing using NLTK. Trained with different models ranging from Naïve Bayes to Convolutional Neural Network (CNN) and RCNN. GitHub. https://github.com/saurabh1907/document-classification-ml-nlp\n",
    "\n",
    "[2]:  K. T. Ulrich, S. D. Eppinger, and M. C. Yang, Product Design and Development (7th Edition). McGraw-Hill Education, 2020. \n",
    "\n",
    "[3] G. J. Hahm, J. H. Lee, and H. W. Suh, “Semantic relation based personalized ranking approach for engineering document retrieval,” Adv. Eng. Informatics, vol. 29, no. 3, pp. 366–379, 2015. \n",
    "\n",
    "[4] H. Chen, X. Wang, S. Pan, and F. Xiong, “Identify topic relations in scientific literature using topic modeling,” IEEE Trans. Eng. Manag., 2019. \n",
    "\n",
    "[5] M. Hertzum and A. M. Pejtersen, “The information-seeking practices of engineers: searching for documents as well as for people,” Inf. Process. Manag., vol. 36, no. 5, pp. 761–778, 2000. \n",
    "\n",
    "[6] X. Liu, “A multi-agent-based architecture for enterprise customer and supplier cooperation context-aware information systems,” in Proceedings of International Conference on Autonomic and Autonomous Systems, 2007, p. 58.\n",
    "\n",
    "[7] ChatGPT"
   ]
  },
  {
   "cell_type": "code",
   "execution_count": null,
   "metadata": {},
   "outputs": [],
   "source": []
  }
 ],
 "metadata": {
  "kernelspec": {
   "display_name": "Python 3 (ipykernel)",
   "language": "python",
   "name": "python3"
  },
  "language_info": {
   "codemirror_mode": {
    "name": "ipython",
    "version": 3
   },
   "file_extension": ".py",
   "mimetype": "text/x-python",
   "name": "python",
   "nbconvert_exporter": "python",
   "pygments_lexer": "ipython3",
   "version": "3.10.9"
  },
  "pycharm": {
   "stem_cell": {
    "cell_type": "raw",
    "metadata": {
     "collapsed": false
    },
    "source": []
   }
  }
 },
 "nbformat": 4,
 "nbformat_minor": 1
}
